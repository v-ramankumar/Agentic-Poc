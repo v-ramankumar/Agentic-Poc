{
 "cells": [
  {
   "cell_type": "code",
   "execution_count": 26,
   "id": "ae51a0db",
   "metadata": {},
   "outputs": [],
   "source": [
    "import os\n",
    "from dotenv import load_dotenv\n",
    "load_dotenv()\n",
    "openai_key = os.getenv(\"OPEN_AI_KEY\")\n",
    "from openai import OpenAI\n",
    "from pydantic import BaseModel\n",
    "from typing import Literal, Optional, Any\n",
    "\n",
    "client = OpenAI(api_key=openai_key)\n",
    "\n",
    "class OutputSchemaPurpose(BaseModel):\n",
    "    \"\"\"Schema for Gemini's classification output.\"\"\"\n",
    "    purpose: Literal[\"pre_authorization\", \"other\"]\n",
    "    name: Optional[str]\n",
    "    payer: Optional[Literal[\"cohere\", \"humana\"]]\n",
    "\n",
    "class PurposeClass(BaseModel):\n",
    "    items: list[OutputSchemaPurpose]\n",
    "\n",
    "SYSTEM_PROMPT = \"\"\"\n",
    "You are an intent classification assistant for a US healthcare automation system.\n",
    "Your task:\n",
    "1. Determine if the user's input is about \"pre_authorization\" or \"other\".\n",
    "2. If it is \"pre_authorization\", extract:\n",
    "   - The person's name.\n",
    "   - The payer (insurance partner), only from: [\"cohere\", \"humana\"].\n",
    "3. If information is missing, leave the field as null.\n",
    "4. Be concise and always follow the output JSON schema exactly.\n",
    "\"\"\"\n",
    "\n",
    "# def openai_function(user_input: str):\n",
    "user_input = \"hi\"\n",
    "response = client.responses.parse(\n",
    "    model=\"gpt-4.1-mini\",\n",
    "    input=[\n",
    "        {\"role\": \"system\", \"content\": SYSTEM_PROMPT},\n",
    "        {\"role\": \"user\", \"content\": user_input},\n",
    "    ],\n",
    "    text_format=OutputSchemaPurpose,  # your Pydantic schema\n",
    ")\n",
    "\n",
    "parsed = response.output_parsed\n",
    "purpose, name, payer = parsed.purpose, parsed.name, parsed.payer"
   ]
  },
  {
   "cell_type": "code",
   "execution_count": 27,
   "id": "dbe50b13",
   "metadata": {},
   "outputs": [
    {
     "name": "stdout",
     "output_type": "stream",
     "text": [
      "other\n",
      "None\n",
      "None\n"
     ]
    }
   ],
   "source": [
    "print(purpose)\n",
    "print(name)\n",
    "print(payer)"
   ]
  },
  {
   "cell_type": "code",
   "execution_count": 4,
   "id": "68906a47",
   "metadata": {},
   "outputs": [
    {
     "name": "stdout",
     "output_type": "stream",
     "text": [
      "hello, hope you doing well, how can i help you today?\n"
     ]
    }
   ],
   "source": [
    "import numpy  as np\n",
    "from prompts import Greeetings\n",
    "\n",
    "print(np.random.choice(Greeetings))"
   ]
  },
  {
   "cell_type": "code",
   "execution_count": 1,
   "id": "d7fa5b8c",
   "metadata": {},
   "outputs": [
    {
     "data": {
      "text/plain": [
       "{'payer_id': 1,\n",
       " 'payer_name': 'cohere',\n",
       " 'payer_url': 'https://portal.cohere.com',\n",
       " 'payer_credentials': {'userid': 'abc', 'password': '123'}}"
      ]
     },
     "execution_count": 1,
     "metadata": {},
     "output_type": "execute_result"
    }
   ],
   "source": [
    "from table_files import PAYERS\n",
    "def get_payer_details(payer_name: str) -> dict | None:\n",
    "    \"\"\"Fetch payer details from the mocked PAYERS table.\"\"\"\n",
    "    for payer in PAYERS:\n",
    "        if payer[\"payer_name\"].lower() == payer_name.lower():\n",
    "            return payer\n",
    "    return None\n",
    "get_payer_details(\"cohere\")"
   ]
  },
  {
   "cell_type": "code",
   "execution_count": 5,
   "id": "5feba9a9",
   "metadata": {},
   "outputs": [
    {
     "data": {
      "text/plain": [
       "{'payer_details': {'payer_id': 1,\n",
       "  'payer_name': 'cohere',\n",
       "  'payer_url': 'https://portal.cohere.com',\n",
       "  'payer_credentials': {'userid': 'abc', 'password': '123'}},\n",
       " 'workflow_data': {'response': [{'requestid': '4473',\n",
       "    'appointmentid': '158231849-1',\n",
       "    'appointmentdate': '10/27/2025 6:00:00 PM',\n",
       "    'caseid': '12345873',\n",
       "    'visittype': 'Subsequent',\n",
       "    'authorizationtype': 'Initial',\n",
       "    'clientspecialty': 'Radiology',\n",
       "    'providerfirstname': 'JANE',\n",
       "    'providerlastname': 'DOE',\n",
       "    'providernpi': '1111111111',\n",
       "    'providershortcode': '',\n",
       "    'providerphone': '',\n",
       "    'provideraddress1': 'TEST ADDRESS',\n",
       "    'provideraddress2': '',\n",
       "    'providercity': 'TEST CITY',\n",
       "    'providerstate': 'NY',\n",
       "    'providerzip': '10510',\n",
       "    'providercountry': 'USA',\n",
       "    'subscriberfirstname': 'JOHN',\n",
       "    'subscriberlastname': 'DOE',\n",
       "    'subscriberaddress1': 'TEST',\n",
       "    'subscriberaddress2': '',\n",
       "    'subscribercity': 'TEST',\n",
       "    'subscriberstate': 'NY',\n",
       "    'subscriberzip': '10562',\n",
       "    'subscribercountry': 'US',\n",
       "    'subscriberdateofbirth': '10/XX/19XX 12:00:00 AM',\n",
       "    'subscribergender': 'Male',\n",
       "    'subscriberrelationship': 'Self',\n",
       "    'subscriberrelationshipcode': '18',\n",
       "    'ediservicecode': '',\n",
       "    'patientfirstname': 'JOHN',\n",
       "    'patientlastname': 'DOE',\n",
       "    'patientdateofbirth': 'XX/XX/19XX 12:00:00 AM',\n",
       "    'personnumber': 'XXX-1111111',\n",
       "    'patientaddress1': 'TEST',\n",
       "    'patientaddress2': '',\n",
       "    'patientcity': 'TEST',\n",
       "    'patientstate': 'NY',\n",
       "    'patientzip': '10562',\n",
       "    'patientcountry': 'US',\n",
       "    'gender': 'Male',\n",
       "    'payername': 'FIDELIS MEDICAID',\n",
       "    'payerid': '350007',\n",
       "    'policynumber': '<POLICY NUMBER>',\n",
       "    'locationcode': 'NY',\n",
       "    'locationname': '<FACILITY NAME>',\n",
       "    'locationaddress1': '<FACILITY ADDRESS>',\n",
       "    'locationaddress2': '',\n",
       "    'locationcity': 'CITY',\n",
       "    'locationstate': 'NY',\n",
       "    'locationzip': '10549',\n",
       "    'locationcountry': 'USA',\n",
       "    'facilitynpi': '11111111111',\n",
       "    'providergrouptaxid': '1111211111',\n",
       "    'placeofservice': '11',\n",
       "    'mandatorydocuments': '',\n",
       "    'additionaldocuments': '',\n",
       "    'contactname': '<contact name>',\n",
       "    'contactphone': '888-868-4102',\n",
       "    'contactfax': '(469) 466-6178',\n",
       "    'dxcodes': 'E66.9,E78.2,Z00.01,I25.10,Z87.891',\n",
       "    'cptcodes': '71271',\n",
       "    'procedurecodes': [{'code': '71271',\n",
       "      'unit': '1',\n",
       "      'modifiercode': '',\n",
       "      'diagnosiscode': ''}],\n",
       "    'totalprocedurecodes': 1,\n",
       "    'category': 'PA_CMM_Epic_Radiology_FIdelis_AS',\n",
       "    'followupdate': '8/5/2025 2:14:23 AM',\n",
       "    'clientname': 'CLIENT NAME',\n",
       "    'enterpriseid': 'CLIENT ID',\n",
       "    'enterprisename': 'ENTERPRISE NAME',\n",
       "    'vendorname': 'EVICORE',\n",
       "    'subsupportedmedium': 'BROWSER',\n",
       "    'encounterid': '',\n",
       "    'other': {'other1': {'other_que': 'Auth Submission Comments',\n",
       "      'other_ans': 'Good'},\n",
       "     'other2': {'other_que': 'Spoke_To', 'other_ans': ''},\n",
       "     'other3': {'other_que': 'Contact Email',\n",
       "      'other_ans': 'test@IKSHEALTH.com'},\n",
       "     'other4': {'other_que': 'Facility TIN', 'other_ans': '1211111111'},\n",
       "     'other5': {'other_que': 'IKS Specialty', 'other_ans': 'Radiology'},\n",
       "     'other6': {'other_que': 'Client Visit Reason',\n",
       "      'other_ans': 'IMG200A - LDCT LUNG SCREENING'},\n",
       "     'other7': {'other_que': 'IKS Visit Reason',\n",
       "      'other_ans': 'IMG200A - LDCT LUNG SCREENING'},\n",
       "     'other8': {'other_que': 'Platform', 'other_ans': 'EVICORE Portal'},\n",
       "     'other9': {'other_que': 'POS Description',\n",
       "      'other_ans': 'Location, other than a hospital, skilled nursing facility (SNF), military treatment facility, community health center, State or local public health clinic, or intermediate care facility (ICF), where the health professional routinely provides health examinations, diagnosis, and treatment of illness or injury on an ambulatory basis.'},\n",
       "     'other10': {'other_que': 'Order Type', 'other_ans': 'Traditional'},\n",
       "     'other11': {'other_que': 'Ordering Provider ID', 'other_ans': 'xxxxxx'},\n",
       "     'other12': {'other_que': 'Ordering Provider FName', 'other_ans': 'JOHN'},\n",
       "     'other13': {'other_que': 'Ordering Provider LName', 'other_ans': 'DOE'},\n",
       "     'other14': {'other_que': 'Ordering Provider NPI',\n",
       "      'other_ans': '11111111'},\n",
       "     'other15': {'other_que': 'Ordering Provider TIN', 'other_ans': ''},\n",
       "     'other17': {'other_que': 'Last Worked By', 'other_ans': 'EVE-Autonomous'},\n",
       "     'other18': {'other_que': 'UserName', 'other_ans': 'System'},\n",
       "     'other19': {'other_que': 'Previous Auth Notes', 'other_ans': ''}},\n",
       "    'casereferencenumber': 'test-1',\n",
       "    'snapshotofauth': '',\n",
       "    'authstatus': '',\n",
       "    'payerresponsedocument': '',\n",
       "    'authid': '',\n",
       "    'authstartdate': '',\n",
       "    'authenddate': '',\n",
       "    'totalnumberofvisit': '1',\n",
       "    'denialreason': '',\n",
       "    'denialresponsenumber': '',\n",
       "    'denialdate': '',\n",
       "    'effectivedate': '10/27/2025 6:00:00 PM',\n",
       "    'questionnaire': {},\n",
       "    'documents': {},\n",
       "    'taskassignment': {'document1': {'name': '', 'assignedto': 'No'}},\n",
       "    'authnotes': ''}]}}"
      ]
     },
     "execution_count": 5,
     "metadata": {},
     "output_type": "execute_result"
    }
   ],
   "source": [
    "from helpers import pre_authorization_workflow\n",
    "def enrich_pre_authorization_response(patient_id: str, payer: str) -> dict:\n",
    "    \"\"\"\n",
    "    Calls the pre_authorization_workflow() API and enriches its response \n",
    "    with payer details from get_payer_details().\n",
    "    \"\"\"\n",
    "    # Step 1: Call workflow API\n",
    "    workflow_data = pre_authorization_workflow(patient_id, payer)\n",
    "\n",
    "    # Step 2: Fetch payer details\n",
    "    payer_details = get_payer_details(payer)\n",
    "\n",
    "    # Step 3: Enrich response\n",
    "    enriched_response = {\n",
    "        \"payer_details\": payer_details,\n",
    "        \"workflow_data\": workflow_data\n",
    "    }\n",
    "    return enriched_response\n",
    "\n",
    "enrich_pre_authorization_response(\"hjbh\", \"cohere\")"
   ]
  },
  {
   "cell_type": "code",
   "execution_count": null,
   "id": "583a5367",
   "metadata": {},
   "outputs": [],
   "source": []
  }
 ],
 "metadata": {
  "kernelspec": {
   "display_name": "vplanner",
   "language": "python",
   "name": "python3"
  },
  "language_info": {
   "codemirror_mode": {
    "name": "ipython",
    "version": 3
   },
   "file_extension": ".py",
   "mimetype": "text/x-python",
   "name": "python",
   "nbconvert_exporter": "python",
   "pygments_lexer": "ipython3",
   "version": "3.12.0"
  }
 },
 "nbformat": 4,
 "nbformat_minor": 5
}
